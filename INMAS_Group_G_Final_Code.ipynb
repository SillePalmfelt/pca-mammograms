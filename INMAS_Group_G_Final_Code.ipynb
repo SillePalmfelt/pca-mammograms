{
  "nbformat": 4,
  "nbformat_minor": 0,
  "metadata": {
    "colab": {
      "name": "INMAS-Group-G-Final-Code.ipynb",
      "provenance": [],
      "collapsed_sections": []
    },
    "kernelspec": {
      "name": "python3",
      "display_name": "Python 3"
    },
    "language_info": {
      "name": "python"
    }
  },
  "cells": [
    {
      "cell_type": "markdown",
      "source": [
        "# Predicting whether movie reviews contain spoilers\n",
        "\n",
        "### Manuel Albrizzio, Adnan Cihan Cakar, Jared Grove, Johnny Joyce\n"
      ],
      "metadata": {
        "id": "qa6bz1NKxIkI"
      }
    },
    {
      "cell_type": "markdown",
      "source": [
        "# Resources used:\n",
        "\n",
        "* Scikit-learn documentation\n",
        "* SciPy documentation\n",
        "* NLTK documentation\n",
        "* Pandas documentation"
      ],
      "metadata": {
        "id": "xswDAiyIvE0D"
      }
    },
    {
      "cell_type": "markdown",
      "source": [
        "# Importing Kaggle API and the data set"
      ],
      "metadata": {
        "id": "6nUPstHqryKA"
      }
    },
    {
      "cell_type": "code",
      "source": [
        "import pandas as pd\n",
        "import nltk\n",
        "import kaggle\n",
        "import matplotlib.pyplot as plt\n",
        "import seaborn as snsimport string\n",
        "from nltk.tokenize import  word_tokenize\n",
        "from nltk.corpus import stopwords\n",
        "from nltk.stem import PorterStemmer\n",
        "import numpy as np"
      ],
      "metadata": {
        "id": "9oiAaK--yOVE"
      },
      "execution_count": null,
      "outputs": []
    },
    {
      "cell_type": "code",
      "source": [
        "# Upload the kaggle api key \"kaggle.json\" I have it saved in my downloads folder\n",
        "# You would need your own Kaggle API to do this part. If not you will need use the .pkl file \n",
        "# and start just above encoding the data at: df_total = pd.read_pickle(\"Processed_and_encoded_50k.pkl\")\n",
        "from google.colab import files\n",
        "\n",
        "\n",
        "uploaded = files.upload()\n",
        "\n",
        "for fn in uploaded.keys():\n",
        "  print('User uploaded file \"{name}\" with length {length} bytes'.format(\n",
        "      name=fn, length=len(uploaded[fn])))\n",
        "  \n",
        "# Then move kaggle.json into the folder where the API expects to find it.\n",
        "!mkdir -p ~/.kaggle/ && mv kaggle.json ~/.kaggle/ && chmod 600 ~/.kaggle/kaggle.json"
      ],
      "metadata": {
        "colab": {
          "resources": {
            "http://localhost:8080/nbextensions/google.colab/files.js": {
              "data": "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",
              "ok": true,
              "headers": [
                [
                  "content-type",
                  "application/javascript"
                ]
              ],
              "status": 200,
              "status_text": ""
            }
          },
          "base_uri": "https://localhost:8080/",
          "height": 90
        },
        "id": "lP7u3XvoyCDN",
        "outputId": "9c98d009-f55f-47ec-b5bd-4906933b2bda"
      },
      "execution_count": null,
      "outputs": [
        {
          "output_type": "display_data",
          "data": {
            "text/html": [
              "\n",
              "     <input type=\"file\" id=\"files-6114e978-bc37-4690-920f-3d7ede5b5c8b\" name=\"files[]\" multiple disabled\n",
              "        style=\"border:none\" />\n",
              "     <output id=\"result-6114e978-bc37-4690-920f-3d7ede5b5c8b\">\n",
              "      Upload widget is only available when the cell has been executed in the\n",
              "      current browser session. Please rerun this cell to enable.\n",
              "      </output>\n",
              "      <script src=\"/nbextensions/google.colab/files.js\"></script> "
            ],
            "text/plain": [
              "<IPython.core.display.HTML object>"
            ]
          },
          "metadata": {}
        },
        {
          "output_type": "stream",
          "name": "stdout",
          "text": [
            "Saving kaggle.json to kaggle.json\n",
            "User uploaded file \"kaggle.json\" with length 63 bytes\n"
          ]
        }
      ]
    },
    {
      "cell_type": "code",
      "source": [
        "#Import the dataset from kaggle\n",
        "! kaggle datasets download rmisra/imdb-spoiler-dataset"
      ],
      "metadata": {
        "colab": {
          "base_uri": "https://localhost:8080/"
        },
        "id": "qxOnmdI9yRoX",
        "outputId": "3e938e8e-7563-4426-d791-81559395c57d"
      },
      "execution_count": null,
      "outputs": [
        {
          "output_type": "stream",
          "name": "stdout",
          "text": [
            "imdb-spoiler-dataset.zip: Skipping, found more recently modified local copy (use --force to force download)\n"
          ]
        }
      ]
    },
    {
      "cell_type": "code",
      "source": [
        "#Unzip the dataset to be useable\n",
        "!unzip -q imdb-spoiler-dataset.zip"
      ],
      "metadata": {
        "id": "3-weSNgAzBGO"
      },
      "execution_count": null,
      "outputs": []
    },
    {
      "cell_type": "markdown",
      "source": [
        "# Pre-processing the data\n",
        "\n",
        "This block defines functions to\n",
        "\n",
        "\n",
        "*   Change movie durations from strings to integers\n",
        "*   Change strings of text (e.g. bodies of reviews) into lists of \"stemmed\" words\n",
        "\n",
        "\n",
        "\n"
      ],
      "metadata": {
        "id": "I6QmIRVssdbj"
      }
    },
    {
      "cell_type": "code",
      "source": [
        "def to_mins(duration):\n",
        "    \"\"\" Takes movie duration as str and returns duration as int (total minutes)\"\"\"\n",
        "    if \"h \" in duration and \"min\" in duration:\n",
        "        hrs, mins = duration.split(\"h \")\n",
        "        return int(hrs)*60 + int(mins[:-3])\n",
        "        \n",
        "    elif \"h\" in duration:\n",
        "        hrs = duration.split(\"h\")[0]\n",
        "        return int(hrs)*60\n",
        "    else:\n",
        "        mins = duration[:-3]\n",
        "        return int(mins)\n",
        "\n",
        "\n",
        "\n",
        "\n",
        "def review_process(review_text, stemming = True):\n",
        "    '''this funtion requires the word_tokenize from nltk.tokenize to be imported\n",
        "    this funtion requires the PorterStemmer from nltk.stem to be imported if stemming is True\n",
        "    this function takes a review text body and applies the following process:\n",
        "    1) lowercase the review\n",
        "    2) split the review to a\n",
        "    3) removes stopwords\n",
        "    4) stem the list if stemming is true\n",
        "    returns a list of resulting words'''\n",
        "\n",
        "    review_list = word_tokenize(review_text.lower())\n",
        "    review_list = [word for word in review_list\n",
        "                    if (any([l in non_puckt for l in word ])) and (word not in sw)]\n",
        "    review_list = [word if (not word == \"n't\") else 'not' for word in review_list ]\n",
        "    review_list = [ps.stem(word) for word in review_list ]\n",
        "    return review_list\n",
        "\n",
        "\n",
        "\n",
        "nltk.download('punkt')\n",
        "nltk.download('stopwords')\n",
        "non_puckt = string.ascii_lowercase+string.digits\n",
        "\n",
        "\n",
        "global ps\n",
        "ps = PorterStemmer()\n",
        "global sw\n",
        "sw = stopwords.words('english')\n",
        "sw += [\"'s\"]"
      ],
      "metadata": {
        "colab": {
          "base_uri": "https://localhost:8080/"
        },
        "id": "3Kqva8g26x5B",
        "outputId": "1b5ecb36-ab7c-48f8-fe30-fb0fbf3977bf"
      },
      "execution_count": null,
      "outputs": [
        {
          "output_type": "stream",
          "name": "stdout",
          "text": [
            "[nltk_data] Downloading package punkt to /root/nltk_data...\n",
            "[nltk_data]   Package punkt is already up-to-date!\n",
            "[nltk_data] Downloading package stopwords to /root/nltk_data...\n",
            "[nltk_data]   Package stopwords is already up-to-date!\n"
          ]
        }
      ]
    },
    {
      "cell_type": "markdown",
      "source": [
        "This block pre-processes the data by applying the relevant functions. The number of entries is also reduced from around 570 000 to 50 000 to allow feasible runtimes."
      ],
      "metadata": {
        "id": "gVlToVJXtFkQ"
      }
    },
    {
      "cell_type": "code",
      "source": [
        "# Read in the seperate datasets and rename the review column for each to be unique\n",
        "df_reviews = pd.read_json('IMDB_reviews.json', lines = True)\n",
        "df_details = pd.read_json('IMDB_movie_details.json', lines = True)\n",
        "\n",
        "df_reviews = df_reviews.sample(50000, random_state=38) # Reduce size to 50 000\n",
        "df_reviews = df_reviews.rename(columns = {'rating':'review_rating'})\n",
        "df_reviews[\"review_summary\"] = df_reviews[\"review_summary\"].map(review_process) # Pre-process \"review_summary\"\n",
        "df_reviews[\"review_text\"] = df_reviews[\"review_text\"].map(review_process) # Pre-process \"review_text\"\n",
        "\n",
        "df_details  = df_details.rename(columns = {'rating':'movie_rating'}) \n",
        "df_details['numerical_Duration'] = df_details[\"duration\"].apply(to_mins)\n",
        "df_details[\"plot_summary\"] = df_details[\"plot_summary\"].map(review_process) # Pre-process \"plot_summary\"\n",
        "df_details[\"plot_synopsis\"] = df_details[\"plot_synopsis\"].map(review_process) # Pre-process \"plot_details\"\n",
        "\n",
        "\n",
        "# Merge the dataframes together on movie_id\n",
        "df_total = pd.merge(df_reviews, df_details, on = 'movie_id')\n",
        "\n",
        "#Convert the dates to datetime format\n",
        "df_total['num_review_date'] =  pd.to_datetime(df_total['review_date'])\n",
        "df_total['num_release_date'] =  pd.to_datetime(df_total['release_date'])\n",
        "#Create days from release to review\n",
        "df_total['days_from_release_to_review'] = (df_total['num_review_date'] - df_total['num_release_date']).dt.days"
      ],
      "metadata": {
        "id": "hLG3Ykv2ycKr"
      },
      "execution_count": null,
      "outputs": []
    },
    {
      "cell_type": "markdown",
      "source": [
        "# Exporting the results to shareable file format\n",
        "\n",
        "`pickle` was used to share the processed data between computers. We attempted to share with one-hot encoding, but these used too much RAM. Instead, the encoding was performed separately on each device."
      ],
      "metadata": {
        "id": "6MaZd1_Itwb8"
      }
    },
    {
      "cell_type": "code",
      "source": [
        "#Make a dictionary with every word in the tokenized plot_summary and tokenized plot_review\n",
        "df_total.to_pickle(\"./Processed_50k.pkl\")"
      ],
      "metadata": {
        "id": "sTEP-fZC70Zr",
        "colab": {
          "base_uri": "https://localhost:8080/"
        },
        "outputId": "1c34a633-84fd-4818-d623-f53fbfdc3459"
      },
      "execution_count": null,
      "outputs": [
        {
          "output_type": "execute_result",
          "data": {
            "text/plain": [
              "0        [evacu, alli, soldier, british, empir, franc, ...\n",
              "1        [evacu, alli, soldier, british, empir, franc, ...\n",
              "2        [evacu, alli, soldier, british, empir, franc, ...\n",
              "3        [evacu, alli, soldier, british, empir, franc, ...\n",
              "4        [evacu, alli, soldier, british, empir, franc, ...\n",
              "                               ...                        \n",
              "49994    [black, beauti, beauti, black, stallion, 1870,...\n",
              "49995    [stori, begin, spanki, presid, he-man, woman, ...\n",
              "49996    [summer, parker, famili, usual, number, event,...\n",
              "49997    [sylvia, work, increasingli, take, away, three...\n",
              "49998    [jose, lui, execut, parent, underwear, factori...\n",
              "Name: plot_summary, Length: 49999, dtype: object"
            ]
          },
          "metadata": {},
          "execution_count": 18
        }
      ]
    },
    {
      "cell_type": "code",
      "source": [
        "df_total = pd.read_pickle(\"Processed_and_encoded_50k.pkl\")"
      ],
      "metadata": {
        "id": "f_6f4rjOyddD"
      },
      "execution_count": null,
      "outputs": []
    },
    {
      "cell_type": "markdown",
      "source": [
        "# Encoding the data\n",
        "\n",
        "`scikit-learn`'s MultiLabelBinarizer was used to encode the lists of words into one-hot vectors, which were then summed for each review.\n",
        "\n",
        "This process used a significant amount of RAM, so only 5000 samples were used."
      ],
      "metadata": {
        "id": "2oLaDYyWuSd8"
      }
    },
    {
      "cell_type": "code",
      "source": [
        "from sklearn.preprocessing import MultiLabelBinarizer\n",
        "from sklearn.feature_extraction.text import HashingVectorizer\n",
        "\n",
        "#df_total = df_total.sample(5000, random_state=38)\n",
        "# Use MultiLabelBinarizer to convert [a,b,c] -> three binary columns for the presence of a,b,c\n",
        "mlb = MultiLabelBinarizer()\n",
        "df1 = pd.DataFrame(mlb.fit_transform(df_total['review_summary']),columns=mlb.classes_, index=df_total.index)\n",
        "df2 = pd.DataFrame(mlb.fit_transform(df_total['plot_summary']),columns=mlb.classes_, index=df_total.index)\n",
        "df3 = pd.DataFrame(mlb.fit_transform(df_total['review_text']),columns=mlb.classes_, index=df_total.index)\n",
        "df4 = pd.DataFrame(mlb.fit_transform(df_total['plot_synopsis']),columns=mlb.classes_, index=df_total.index)\n",
        " \n",
        "# Convert the MLB output into a single vector for each row\n",
        "review_summary_Vect = []\n",
        "plot_summary_Vect = []\n",
        "review_text_Vect = []\n",
        "plot_synopsis_Vect = []\n",
        "for i,r in df1.iterrows():\n",
        " review_summary_Vect.append(r.values)\n",
        "for i,r in df2.iterrows():\n",
        " plot_summary_Vect.append(r.values)\n",
        "for i,r in df1.iterrows():\n",
        " review_text_Vect.append(r.values)\n",
        "for i,r in df2.iterrows():\n",
        " plot_synopsis_Vect.append(r.values)\n",
        " \n",
        "# Combine into the df_total\n",
        "df_total['review_summary_Vect'] = review_summary_Vect\n",
        "df_total['plot_summary_Vect'] = plot_summary_Vect\n",
        "df_total['review_text_Vect'] = review_text_Vect\n",
        "df_total['plot_synopsis_Vect'] = plot_synopsis_Vect"
      ],
      "metadata": {
        "id": "8PISTHqTuwI9"
      },
      "execution_count": null,
      "outputs": []
    },
    {
      "cell_type": "code",
      "source": [
        "Tdf_total.to_pickle(\"./Processed_and_encoded_5k.pkl\")"
      ],
      "metadata": {
        "id": "lnf3yPm9wNtS"
      },
      "execution_count": null,
      "outputs": []
    },
    {
      "cell_type": "markdown",
      "source": [
        "# Preparing and training logistic regression model\n"
      ],
      "metadata": {
        "id": "0YpCcfwbwkzh"
      }
    },
    {
      "cell_type": "code",
      "source": [
        "from sklearn.linear_model import LogisticRegression\n",
        "from sklearn.model_selection import train_test_split\n",
        "from sklearn.metrics import accuracy_score, f1_score\n",
        "from sklearn.preprocessing import StandardScaler\n",
        "from scipy.spatial.distance import jaccard\n",
        " \n",
        "df_total['plot_summary'] = df_total['plot_summary'].map(np.array)\n",
        "df_total['review_summary'] = df_total['review_summary'].map(np.array)\n",
        " \n",
        "df_total['difference'] = np.zeros(len(df_total))\n",
        "for i in range(len(df_total)):\n",
        "  df_total.at[i, 'difference'] = jaccard(df_total.at[i, 'plot_summary'] - df_total.at[i, 'review_summary'])\n",
        " \n",
        "df_total['difference'] = df_total['difference']\n",
        "X_train, X_test, y_train, y_test = train_test_split(df_total[['difference']], df_total['is_spoiler'],\n",
        "                                                    test_size = 0.2)\n",
        "st_sc = StandardScaler()\n",
        "X_train = st_sc.fit_transform(X_train)\n",
        "X_test = st_sc.transform(X_test)\n",
        " \n",
        "log_reg = LogisticRegression().fit(X_train, y_train)\n",
        "f1_score(y_test, log_reg.predict(X_test))"
      ],
      "metadata": {
        "id": "Sw2H7R9pwsPT"
      },
      "execution_count": null,
      "outputs": []
    },
    {
      "cell_type": "markdown",
      "source": [
        "# Preparing and training KNN model"
      ],
      "metadata": {
        "id": "GKY1H0A2w_eD"
      }
    },
    {
      "cell_type": "code",
      "source": [
        "from sklearn import linear_model\n",
        "import numpy as np\n",
        "import matplotlib.pyplot as plt\n",
        "import pandas as pd\n",
        "from sklearn.linear_model import LinearRegression\n",
        "from sklearn.linear_model import Ridge\n",
        "from sklearn.model_selection import train_test_split\n",
        "from sklearn.preprocessing import PolynomialFeatures\n",
        "from sklearn.metrics import mean_squared_error\n",
        "from sklearn.model_selection import GridSearchCV\n",
        "from sklearn.model_selection import RepeatedKFold\n",
        "from sklearn.model_selection import cross_val_score\n",
        " \n",
        "# Read in the preprocessed file\n",
        "df = pd.read_pickle('/content/gdrive/MyDrive/Processed_50k.pkl')\n",
        " \n",
        "X1 = df_reduced[['review_summary_Vect', 'plot_summary_Vect']].to_numpy()   #Appends encoded review and plot summary vectors\n",
        "X2 = []\n",
        "for i in range(len(X1)):\n",
        "  row = X1[i][0]\n",
        "  for j in range(1,len(X1[i])):\n",
        "    np.append(row, X1[i][j])\n",
        "  X2.append(row)     \n",
        " \n",
        "y = df_reduced['is_spoiler'].to_numpy()\n",
        " \n",
        "from sklearn.model_selection import train_test_split\n",
        "X_train, X_test, y_train, y_test = train_test_split(X2, y, test_size = 0.20, random_state = 0)  #train-test-split on dataset with test size of 0.2\n",
        "\n",
        "from sklearn.preprocessing import StandardScaler\n",
        "sc = StandardScaler()\n",
        "X_train = sc.fit_transform(X_train)  #feature scaling to the variables\n",
        "X_test = sc.transform(X_test)\n",
        "\n",
        "from sklearn.neighbors import KNeighborsClassifier\n",
        "classifier = KNeighborsClassifier(n_neighbors = 5, metric = 'minkowski', p = 2) #create and train KNN Model (using Euclidean metric)\n",
        "classifier.fit(X_train, y_train) \n",
        "\n",
        "ypredknn=classifier.predict(X_test) #Predict output on test values\n",
        "\n",
        "from sklearn.metrics import confusion_matrix,accuracy_score #Compare the values predicted to the true values\n",
        "cm = confusion_matrix(y_test, ypredknn)\n",
        "ac = accuracy_score(y_test,ypredknn)\n",
        "\n",
        "f1_score(y_test,ypredknn,average=None) #Compute F1-score on test and predicted dependent values.\n"
      ],
      "metadata": {
        "id": "AOgmtwZuxClc"
      },
      "execution_count": null,
      "outputs": []
    },
    {
      "cell_type": "markdown",
      "source": [
        "# Preparing and training other prediction models"
      ],
      "metadata": {
        "id": "9HKrGnNFv9TS"
      }
    },
    {
      "cell_type": "code",
      "source": [
        "import pandas as pd\n",
        "import numpy as np\n",
        "from sklearn.model_selection import train_test_split\n",
        "from sklearn.decomposition import PCA\n",
        "# Read in the preprocessed file\n",
        "df = pd.read_pickle('/content/gdrive/MyDrive/Processed_50k.pkl')\n",
        "\n",
        "from sklearn.preprocessing import MultiLabelBinarizer\n",
        "# Use MultiLabelBinarizer to convert [a,b,c] -> three binary columns for the presence of a,b,c\n",
        "mlb = MultiLabelBinarizer()\n",
        "uprange = 10000\n",
        "df1 = pd.DataFrame(mlb.fit_transform(df['review_summary'][:uprange]),columns=mlb.classes_, index=df[:uprange].index)\n",
        "df2 = pd.DataFrame(mlb.fit_transform(df['plot_summary'][:uprange]),columns=mlb.classes_, index=df[:uprange].index)\n",
        "print(df1.shape, df2.shape)\n",
        "\n",
        "# Convert the MLB output into a single vector for each row\n",
        "review_summary_Vect = []\n",
        "plot_summary_Vect = []\n",
        "for i,r in df1.iterrows():\n",
        "  review_summary_Vect.append(r.values)\n",
        "for i,r in df2.iterrows():\n",
        "  plot_summary_Vect.append(r.values)\n",
        "\n",
        "df_reduced = df[:uprange]\n",
        "\n",
        "# Combine into the smaller df_total\n",
        "df_reduced['review_summary_Vect'] = review_summary_Vect\n",
        "df_reduced['plot_summary_Vect'] = plot_summary_Vect\n",
        "\n",
        "\n",
        "# Make 0-1 response rather than true/false. Make easier to use as input\n",
        "y = df_reduced['is_spoiler'].to_numpy()\n",
        "y_int = []\n",
        "for i in y:\n",
        "  if i:\n",
        "    y_int.append(1)\n",
        "  else:\n",
        "    y_int.append(0)\n",
        "X1 = df_reduced[['review_summary_Vect', 'plot_summary_Vect']].to_numpy()\n",
        "X2 = []\n",
        "for i in range(len(X1)):\n",
        "  row = X1[i][0]\n",
        "  for j in range(1,len(X1[i])):\n",
        "    np.append(row, X1[i][j])\n",
        "  X2.append(row)\n",
        "\n",
        "# Split into test/train\n",
        "X_train, X_test, y_train, y_test = train_test_split(X2, y, test_size=0.33, random_state=42)\n",
        "X_train_cont, X_test_cont, y_train_cont, y_test_cont = train_test_split(X2, y_int, test_size=0.33, random_state=42)\n",
        "\n",
        "# Perform a PCA decomposition\n",
        "pca = PCA(n_components=800)\n",
        "X_train_pca = pca.fit_transform(X_train)\n",
        "print(sum(pca.explained_variance_ratio_))\n",
        "X_test_pca = pca.transform(X_test)\n",
        "\n",
        "# Make 0-1 response rather than true/false. Make easier to use as input. Add more variables for models\n",
        "y_exp = df_reduced['is_spoiler'].to_numpy()\n",
        "y_int_exp = []\n",
        "for i in y:\n",
        "  if i:\n",
        "    y_int_exp.append(1)\n",
        "  else:\n",
        "    y_int_exp.append(0)\n",
        "X1_exp = df_reduced[['review_summary_Vect', 'plot_summary_Vect', 'numerical_Duration', 'days_from_release_to_review']].to_numpy()\n",
        "X2_exp = []\n",
        "for i in range(len(X1)):\n",
        "  row = X1_exp[i][0]\n",
        "  for j in range(1,len(X1_exp[i])):\n",
        "    np.append(row, X1_exp[i][j])\n",
        "  X2_exp.append(row)\n",
        "\n",
        "#Test train split\n",
        "X_train_exp, X_test_exp, y_train_exp, y_test_exp = train_test_split(X2_exp, y_exp, test_size=0.33, random_state=42)\n",
        "X_train_cont_exp, X_test_cont_exp, y_train_cont_exp, y_test_cont_exp = train_test_split(X2_exp, y_int_exp, test_size=0.33, random_state="
      ],
      "metadata": {
        "id": "DckJamKwwRX7"
      },
      "execution_count": null,
      "outputs": []
    },
    {
      "cell_type": "code",
      "source": [
        "# Train and Evaluate Models:\n",
        "\n",
        "from sklearn.linear_model import LogisticRegression\n",
        "from sklearn.linear_model import LinearRegression\n",
        "from sklearn import linear_model\n",
        "from sklearn.ensemble import RandomForestClassifier\n",
        "from sklearn.neighbors import KNeighborsClassifier\n",
        "from sklearn.pipeline import make_pipeline\n",
        "from sklearn.preprocessing import StandardScaler\n",
        "from sklearn.svm import SVC\n",
        "from sklearn.metrics import f1_score\n",
        "\n",
        "#Models on smaller set of inputs\n",
        "#Logistic Regression\n",
        "logReg = LogisticRegression(random_state=0).fit(X_train, y_train)\n",
        "y_pred_logReg = logReg.predict(X_test)\n",
        "print('Logistic Regression Accuracy: %f', logReg.score(X_test, y_test))\n",
        "print('F1-Score: ', f1_score(y_test, y_pred_logReg, average=None))\n",
        "\n",
        "#Linear Regression\n",
        "linReg = LinearRegression().fit(X_train_cont, y_train_cont)\n",
        "y_pred_linReg = linReg.predict(X_test_cont)\n",
        "print('Linear Regression Accuracy: ', linReg.score(X_test_cont, y_test_cont))\n",
        "\n",
        "#LASSO Regression\n",
        "lassoReg = linear_model.Lasso(alpha=0.01)\n",
        "lassoReg.fit(X_train_cont, y_train_cont)\n",
        "y_pred_lassoReg = lassoReg.predict(X_test_cont)\n",
        "print('LASSO Regression Accuracy: ', lassoReg.score(X_test_cont, y_test_cont))\n",
        "\n",
        "#Random Forest\n",
        "RFClass = RandomForestClassifier(max_depth=2, random_state=0)\n",
        "RFClass.fit(X_train, y_train)\n",
        "y_pred_RF = RFClass.predict(X_test)\n",
        "print('Random Forrest Classifier Accuracy: ', RFClass.score(X_test, y_test))\n",
        "print('F1 Score: ', f1_score(y_test, y_pred_RF))\n",
        "\n",
        "#KNN Classifier\n",
        "KNNs = KNeighborsClassifier(n_neighbors=50)\n",
        "KNNs.fit(X_train, y_train)\n",
        "KNNs_guess = np.round(KNNs.predict(X_test))\n",
        "accuracy = 1-(np.sum(abs(KNNs_guess-y_test))/len(KNNs_guess))\n",
        "print(\"KNN Classifier (k=50) accuracy: \", accuracy)\n",
        "print('F1Score: ', f1_score(y_test, KNNs_guess))\n",
        "\n",
        "#SVM Classifier\n",
        "svm = make_pipeline(StandardScaler(), SVC(gamma='auto'))\n",
        "svm.fit(X_train_cont, y_train_cont)\n",
        "y_pred_svm = svm.predict(X_test)\n",
        "print('SVM Accuracy: ', svm.score(X_test, y_test))\n",
        "\n",
        "#Models on larger set of inputs\n",
        "\n",
        "#Logistic Regression\n",
        "logReg_exp = LogisticRegression(random_state=0).fit(X_train_exp, y_train_exp)\n",
        "y_pred_logReg_exp = logReg_exp.predict(X_test_exp)\n",
        "print('Logistic Regression Accuracy: ', logReg_exp.score(X_test_exp, y_test_exp))\n",
        "print('F1-Score: ', f1_score(y_test_exp, y_pred_logReg_exp, average=None))\n",
        "\n",
        "\n",
        "#Linear Regression\n",
        "linReg_exp = LinearRegression().fit(X_train_cont_exp, y_train_cont_exp)\n",
        "y_pred_linReg_exp = linReg_exp.predict(X_test_cont_exp)\n",
        "correct = 0.0\n",
        "total = 0.0\n",
        "for i in range(len(y_pred_linReg_exp)):\n",
        "  if y_pred_linReg_exp[i] < 0.5:\n",
        "    y_pred_linReg_exp[i] = 0\n",
        "  else:\n",
        "    y_pred_linReg_exp[i] = 1\n",
        "  if y_pred_linReg_exp[i] == y_test_cont_exp[i]:\n",
        "    correct += 1\n",
        "  total += 1\n",
        "print('Linear Regression Manual Accuracy: ', correct/total)\n",
        "\n",
        "#Lasso Regression\n",
        "lassoReg_exp = linear_model.Lasso(alpha=1)\n",
        "lassoReg_exp.fit(X_train_cont_exp, y_train_cont_exp)\n",
        "y_pred_lassoReg_exp = lassoReg.predict(X_test_cont_exp)\n",
        "correct = 0.0\n",
        "total = 0.0\n",
        "for i in range(len(y_pred_lassoReg_exp)):\n",
        "  if y_pred_lassoReg_exp[i] < 0.5:\n",
        "    y_pred_lassoReg_exp[i] = 0\n",
        "  else:\n",
        "    y_pred_lassoReg_exp[i] = 1\n",
        "  if y_pred_lassoReg_exp[i] == y_test_cont_exp[i]:\n",
        "    correct += 1\n",
        "  total += 1\n",
        "print('LASSO Regression Manual Accuracy: ', correct/total)\n",
        "\n",
        "#Random Forrest Classifier\n",
        "RFClass_exp = RandomForestClassifier(max_depth=2, random_state=0)\n",
        "RFClass_exp.fit(X_train_exp, y_train_exp)\n",
        "y_pred_RF_exp = RFClass_exp.predict(X_test_exp)\n",
        "print('Random Forrest Classifier Accuracy: ', RFClass_exp.score(X_test_exp, y_test_exp))\n",
        "print('F1 Score: ', f1_score(y_test_exp, y_pred_RF_exp))\n",
        "\n",
        "#KNN Classifier\n",
        "KNNs_exp = KNeighborsClassifier(n_neighbors=50)\n",
        "KNNs_exp.fit(X_train_exp, y_train_exp)\n",
        "KNNs_guess_exp = np.round(KNNs_exp.predict(X_test_exp))\n",
        "accuracy_exp = 1-(np.sum(abs(KNNs_guess_exp-y_test_exp))/len(KNNs_guess_exp))\n",
        "print(\"KNN Classifier (k=50) accuracy: \", accuracy_exp)\n",
        "print('F1Score: ', f1_score(y_test_exp, KNNs_guess_exp))\n",
        "\n",
        "#SVM - rbf kernel\n",
        "svm_exp = make_pipeline(StandardScaler(), SVC(gamma='auto', kernel = 'rbf'))\n",
        "svm_exp.fit(X_train_exp, y_train_exp)\n",
        "y_pred_svm_exp = svm_exp.predict(X_test_exp)\n",
        "print('SVM Accuracy: ', svm_exp.score(X_test_exp, y_test_exp))\n",
        "print('F1 Score: ', f1_score(y_test_exp, y_pred_svm_exp))\n",
        "\n",
        "#SVM - default kernel\n",
        "svm_exp = make_pipeline(StandardScaler(), SVC(gamma='auto'))\n",
        "svm_exp.fit(X_train_exp, y_train_exp)\n",
        "y_pred_svm_exp = svm_exp.predict(X_test_exp)\n",
        "print('SVM Accuracy: ', svm_exp.score(X_test_exp, y_test_exp))\n",
        "print('F1 Score: ', f1_score(y_test_exp, y_pred_svm_exp))\n",
        "\n",
        "#Logistic Regression with PCA\n",
        "logReg_pca = LogisticRegression(random_state=0).fit(X_train_pca, y_train)\n",
        "y_pred_logReg_pca = logReg_pca.predict(X_test_pca)\n",
        "print('Logistic Regression Accuracy: ', logReg_pca.score(X_test_pca, y_test))\n",
        "print('F1-Score: ', f1_score(y_test, y_pred_logReg_pca, average=None))"
      ],
      "metadata": {
        "id": "RS4H47ZZwYm5"
      },
      "execution_count": null,
      "outputs": []
    },
    {
      "cell_type": "markdown",
      "source": [
        "# Plotting various attributes of the data"
      ],
      "metadata": {
        "id": "H_UYjVunuz_f"
      }
    },
    {
      "cell_type": "code",
      "source": [
        "# movie_rating vs duration\n",
        "sns.scatterplot(data=df_details, x=\"movie_rating\", y=\"numerical_Duration\")\n",
        "#Split duration into 5 minute increments\n",
        "# Duration vs rating\n",
        "sns.scatterplot(data=df_details, x=\"binned_Duration\", y=\"movie_rating\")\n",
        "#Days from Release vs Rating\n",
        "sns.scatterplot(data=df_total, x=\"days_from_release_to_review\", y=\"movie_rating\")"
      ],
      "metadata": {
        "id": "Hkusl7OOxh3z"
      },
      "execution_count": null,
      "outputs": []
    },
    {
      "cell_type": "code",
      "source": [
        "#Split duration into 5 minute increments\n",
        "# movie_rating vs duration \n",
        "sns.scatterplot(data=df_details, x=\"movie_rating\", y=\"numerical_Duration\")"
      ],
      "metadata": {
        "colab": {
          "base_uri": "https://localhost:8080/",
          "height": 297
        },
        "id": "pwnjZ2C-tvoc",
        "outputId": "a885106f-5451-45fd-dc14-5922f7e2cc7a"
      },
      "execution_count": null,
      "outputs": [
        {
          "output_type": "execute_result",
          "data": {
            "text/plain": [
              "<matplotlib.axes._subplots.AxesSubplot at 0x7fda8a71df10>"
            ]
          },
          "metadata": {},
          "execution_count": 70
        },
        {
          "output_type": "display_data",
          "data": {
            "image/png": "[encoded data removed]",
            "text/plain": [
              "<Figure size 432x288 with 1 Axes>"
            ]
          },
          "metadata": {
            "needs_background": "light"
          }
        }
      ]
    },
    {
      "cell_type": "code",
      "source": [
        "#Split duration into 5 minute increments\n",
        "sns.scatterplot(data=df_details, x=\"binned_Duration\", y=\"movie_rating\")"
      ],
      "metadata": {
        "colab": {
          "base_uri": "https://localhost:8080/",
          "height": 297
        },
        "id": "8uhPjTj2tzO4",
        "outputId": "fe2b72d9-d272-4d53-a04e-f2f91add1a46"
      },
      "execution_count": null,
      "outputs": [
        {
          "output_type": "execute_result",
          "data": {
            "text/plain": [
              "<matplotlib.axes._subplots.AxesSubplot at 0x7fda8a621350>"
            ]
          },
          "metadata": {},
          "execution_count": 98
        },
        {
          "output_type": "display_data",
          "data": {
            "image/png": "[encoded data removed]",
            "text/plain": [
              "<Figure size 432x288 with 1 Axes>"
            ]
          },
          "metadata": {
            "needs_background": "light"
          }
        }
      ]
    },
    {
      "cell_type": "code",
      "source": [
        "df_total['review_date']"
      ],
      "metadata": {
        "colab": {
          "base_uri": "https://localhost:8080/"
        },
        "id": "zMM10bAawyFt",
        "outputId": "78a2a82c-4d8a-40a2-f4f1-b2bd98fa8abc"
      },
      "execution_count": null,
      "outputs": [
        {
          "output_type": "execute_result",
          "data": {
            "text/plain": [
              "0         10 February 2006\n",
              "1         6 September 2000\n",
              "2            3 August 2001\n",
              "3         1 September 2002\n",
              "4              20 May 2004\n",
              "                ...       \n",
              "573901       8 August 1999\n",
              "573902        31 July 1999\n",
              "573903        20 July 1999\n",
              "573904        11 June 1999\n",
              "573905          3 May 1999\n",
              "Name: review_date, Length: 573906, dtype: object"
            ]
          },
          "metadata": {},
          "execution_count": 99
        }
      ]
    },
    {
      "cell_type": "code",
      "source": [
        "#Convert the dates to datetime format\n",
        "df_total['num_review_date'] =  pd.to_datetime(df_total['review_date'])\n",
        "df_total['num_release_date'] =  pd.to_datetime(df_total['release_date'])\n",
        "#Create days from release to review\n",
        "df_total['days_from_release_to_review'] = (df_total['num_review_date'] - df_total['num_release_date']).dt.days"
      ],
      "metadata": {
        "id": "IDrMJwB9w2H4"
      },
      "execution_count": null,
      "outputs": []
    },
    {
      "cell_type": "code",
      "source": [
        "#Create days from release to review\n",
        "df_total['days_from_release_to_review'] = (df_total['num_review_date'] - df_total['num_release_date']).dt.days"
      ],
      "metadata": {
        "id": "SQjy-sF5zdUV"
      },
      "execution_count": null,
      "outputs": []
    },
    {
      "cell_type": "code",
      "source": [
        "df_total['days_from_release_to_review']"
      ],
      "metadata": {
        "colab": {
          "base_uri": "https://localhost:8080/"
        },
        "id": "NUsOndiNz_2Q",
        "outputId": "6bb2e572-caa9-47d4-c578-b76f09e35e5f"
      },
      "execution_count": null,
      "outputs": [
        {
          "output_type": "execute_result",
          "data": {
            "text/plain": [
              "0         4137\n",
              "1         2154\n",
              "2         2485\n",
              "3         2879\n",
              "4         3506\n",
              "          ... \n",
              "573901     121\n",
              "573902     113\n",
              "573903     102\n",
              "573904      63\n",
              "573905      24\n",
              "Name: days_from_release_to_review, Length: 573906, dtype: int64"
            ]
          },
          "metadata": {},
          "execution_count": 117
        }
      ]
    },
    {
      "cell_type": "code",
      "source": [
        "sns.scatterplot(data=df_total, x=\"days_from_release_to_review\", y=\"movie_rating\")"
      ],
      "metadata": {
        "colab": {
          "base_uri": "https://localhost:8080/",
          "height": 297
        },
        "id": "dOOJ23nn1bam",
        "outputId": "e2d30e76-7f7b-44e1-9b3b-65b567b19409"
      },
      "execution_count": null,
      "outputs": [
        {
          "output_type": "execute_result",
          "data": {
            "text/plain": [
              "<matplotlib.axes._subplots.AxesSubplot at 0x7fda8a59f050>"
            ]
          },
          "metadata": {},
          "execution_count": 118
        },
        {
          "output_type": "display_data",
          "data": {
            "image/png": "[encoded data removed]",
            "text/plain": [
              "<Figure size 432x288 with 1 Axes>"
            ]
          },
          "metadata": {
            "needs_background": "light"
          }
        }
      ]
    },
    {
      "cell_type": "code",
      "source": [
        "import string\n",
        "from nltk.tokenize import  word_tokenize\n",
        "from nltk.corpus import stopwords\n",
        "from nltk.stem import PorterStemmer\n",
        "nltk.download('punkt')\n",
        "nltk.download('stopwords')\n",
        "non_puckt = string.ascii_lowercase+string.digits\n",
        "\n",
        "def review_process(review_text, stemming = True):\n",
        "  # this funtion requires the word_tokenize from nltk.tokenize to be imported\n",
        "  # this funtion requires the PorterStemmer from nltk.stem to be imported if stemming is True\n",
        "  # this function takes a review text body and applies the following process:\n",
        "  # 1) lowercase the review\n",
        "  # 2) split the review to a\n",
        "  # 3) removes stopwords\n",
        "  # 4) stem the list if stemming is true\n",
        "  # returns a list of resulting words\n",
        " \n",
        "  #import stopwords\n",
        "  sw = stopwords.words('english')\n",
        "  sw += [\"'s\"]\n",
        "  review_list = word_tokenize(review_text.lower())\n",
        "  review_list = [word for word in review_list\n",
        "                 if (any([l in non_puckt for l in word ])) and (word not in sw)]\n",
        "  review_list = [word if (not word == \"n't\") else 'not' for word in review_list ]\n",
        "  if stemming == True:\n",
        "    ps = PorterStemmer()\n",
        "    review_list = [ps.stem(word) for word in review_list ]\n",
        "  return review_list\n"
      ],
      "metadata": {
        "colab": {
          "base_uri": "https://localhost:8080/"
        },
        "id": "rY8pUkHj3DiH",
        "outputId": "c0f96b90-92d3-4534-d056-fb65f022be3c"
      },
      "execution_count": null,
      "outputs": [
        {
          "output_type": "stream",
          "name": "stdout",
          "text": [
            "[nltk_data] Downloading package punkt to /root/nltk_data...\n",
            "[nltk_data]   Package punkt is already up-to-date!\n",
            "[nltk_data] Downloading package stopwords to /root/nltk_data...\n",
            "[nltk_data]   Package stopwords is already up-to-date!\n"
          ]
        }
      ]
    },
    {
      "cell_type": "code",
      "source": [
        "df_total['review_summary'] = df_total['review_summary'].map(review_process)"
      ],
      "metadata": {
        "colab": {
          "base_uri": "https://localhost:8080/"
        },
        "id": "ErbZuDp83los",
        "outputId": "613324aa-47c7-497f-88a6-63d8cb6942e9"
      },
      "execution_count": null,
      "outputs": [
        {
          "output_type": "execute_result",
          "data": {
            "text/plain": [
              "0       [classic, piec, unforgett, film-mak]\n",
              "1             [simpli, amaz, best, film, 90]\n",
              "2            [best, stori, ever, told, film]\n",
              "3                    [busi, die, busi, live]\n",
              "4        [great, stori, wondrous, told, act]\n",
              "                        ...                 \n",
              "9995           [thrill, storylin, left, aww]\n",
              "9996              [best, action, movi, time]\n",
              "9997                                  [seri]\n",
              "9998                                [review]\n",
              "9999                           [hail, joker]\n",
              "Name: review_summary, Length: 10000, dtype: object"
            ]
          },
          "metadata": {},
          "execution_count": 132
        }
      ]
    },
    {
      "cell_type": "code",
      "source": [
        ""
      ],
      "metadata": {
        "id": "lgnmlSod31u7"
      },
      "execution_count": null,
      "outputs": []
    }
  ]
}