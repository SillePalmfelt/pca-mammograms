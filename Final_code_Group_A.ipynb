{
  "cells": [
    {
      "cell_type": "markdown",
      "source": [
        "We first upload the files to google drive and then we mount the google drive."
      ],
      "metadata": {
        "id": "7nGX5UEJTQer"
      }
    },
    {
      "cell_type": "code",
      "execution_count": 1,
      "metadata": {
        "colab": {
          "base_uri": "https://localhost:8080/"
        },
        "id": "Lma9jf4qttwf",
        "outputId": "40fc1e27-1d65-45a8-8a88-518c3b1f9074"
      },
      "outputs": [
        {
          "output_type": "stream",
          "name": "stdout",
          "text": [
            "Mounted at /content/drive/\n"
          ]
        }
      ],
      "source": [
        "#Mounting the files uploaded on google drive\n",
        "from google.colab import drive\n",
        "drive.mount('/content/drive/')"
      ]
    },
    {
      "cell_type": "markdown",
      "source": [
        "We import some important packages"
      ],
      "metadata": {
        "id": "ClXVEzNaTpYZ"
      }
    },
    {
      "cell_type": "code",
      "execution_count": 2,
      "metadata": {
        "id": "ItsytU_C1Okl"
      },
      "outputs": [],
      "source": [
        "#Importing the useful packages\n",
        "import random\n",
        "import numpy as np\n",
        "import numpy as np # linear algebra\n",
        "import pandas as pd # data processing, CSV file I/O (e.g. pd.read_csv)\n",
        "import os\n",
        "import itertools\n",
        "import os, stat, time\n",
        "from os.path import dirname as up\n",
        "import shutil\n",
        "import glob\n",
        "from PIL import Image\n",
        "import seaborn as sns\n",
        "import matplotlib.pyplot as plt\n",
        "from sklearn import svm, metrics, datasets\n",
        "from sklearn.utils import Bunch\n",
        "from sklearn.model_selection import GridSearchCV, train_test_split\n",
        "\n",
        "from skimage.io import imread\n",
        "from skimage.transform import resize\n"
      ]
    },
    {
      "cell_type": "code",
      "execution_count": 3,
      "metadata": {
        "colab": {
          "base_uri": "https://localhost:8080/"
        },
        "id": "PMyybXonWBn3",
        "outputId": "45863f83-821e-4024-ce60-d5788f555962"
      },
      "outputs": [
        {
          "output_type": "stream",
          "name": "stdout",
          "text": [
            "Requirement already satisfied: scikit-image in /usr/local/lib/python3.7/dist-packages (0.18.3)\n",
            "Requirement already satisfied: matplotlib!=3.0.0,>=2.0.0 in /usr/local/lib/python3.7/dist-packages (from scikit-image) (3.2.2)\n",
            "Requirement already satisfied: scipy>=1.0.1 in /usr/local/lib/python3.7/dist-packages (from scikit-image) (1.4.1)\n",
            "Requirement already satisfied: networkx>=2.0 in /usr/local/lib/python3.7/dist-packages (from scikit-image) (2.6.3)\n",
            "Requirement already satisfied: numpy>=1.16.5 in /usr/local/lib/python3.7/dist-packages (from scikit-image) (1.19.5)\n",
            "Requirement already satisfied: tifffile>=2019.7.26 in /usr/local/lib/python3.7/dist-packages (from scikit-image) (2021.11.2)\n",
            "Requirement already satisfied: PyWavelets>=1.1.1 in /usr/local/lib/python3.7/dist-packages (from scikit-image) (1.2.0)\n",
            "Requirement already satisfied: pillow!=7.1.0,!=7.1.1,>=4.3.0 in /usr/local/lib/python3.7/dist-packages (from scikit-image) (7.1.2)\n",
            "Requirement already satisfied: imageio>=2.3.0 in /usr/local/lib/python3.7/dist-packages (from scikit-image) (2.4.1)\n",
            "Requirement already satisfied: python-dateutil>=2.1 in /usr/local/lib/python3.7/dist-packages (from matplotlib!=3.0.0,>=2.0.0->scikit-image) (2.8.2)\n",
            "Requirement already satisfied: pyparsing!=2.0.4,!=2.1.2,!=2.1.6,>=2.0.1 in /usr/local/lib/python3.7/dist-packages (from matplotlib!=3.0.0,>=2.0.0->scikit-image) (3.0.7)\n",
            "Requirement already satisfied: kiwisolver>=1.0.1 in /usr/local/lib/python3.7/dist-packages (from matplotlib!=3.0.0,>=2.0.0->scikit-image) (1.3.2)\n",
            "Requirement already satisfied: cycler>=0.10 in /usr/local/lib/python3.7/dist-packages (from matplotlib!=3.0.0,>=2.0.0->scikit-image) (0.11.0)\n",
            "Requirement already satisfied: six>=1.5 in /usr/local/lib/python3.7/dist-packages (from python-dateutil>=2.1->matplotlib!=3.0.0,>=2.0.0->scikit-image) (1.15.0)\n"
          ]
        }
      ],
      "source": [
        "pip install scikit-image"
      ]
    },
    {
      "cell_type": "code",
      "execution_count": 4,
      "metadata": {
        "id": "nfGfcRovuxV-"
      },
      "outputs": [],
      "source": [
        "import os\n",
        "os.chdir(\"/content/drive/My Drive/inmas\")"
      ]
    },
    {
      "cell_type": "code",
      "execution_count": 5,
      "metadata": {
        "colab": {
          "base_uri": "https://localhost:8080/"
        },
        "id": "G0k6WuVG0Z75",
        "outputId": "7439a297-32cb-408c-dd40-20166cd417eb"
      },
      "outputs": [
        {
          "output_type": "stream",
          "name": "stdout",
          "text": [
            "Requirement already satisfied: torch in /usr/local/lib/python3.7/dist-packages (1.10.0+cu111)\n",
            "Requirement already satisfied: torchvision in /usr/local/lib/python3.7/dist-packages (0.11.1+cu111)\n",
            "Requirement already satisfied: typing-extensions in /usr/local/lib/python3.7/dist-packages (from torch) (3.10.0.2)\n",
            "Requirement already satisfied: numpy in /usr/local/lib/python3.7/dist-packages (from torchvision) (1.19.5)\n",
            "Requirement already satisfied: pillow!=8.3.0,>=5.3.0 in /usr/local/lib/python3.7/dist-packages (from torchvision) (7.1.2)\n"
          ]
        }
      ],
      "source": [
        "!pip3 install torch torchvision"
      ]
    },
    {
      "cell_type": "markdown",
      "source": [
        "We use the os commands to read the files from google drive"
      ],
      "metadata": {
        "id": "i5n7xlM6TzA1"
      }
    },
    {
      "cell_type": "code",
      "execution_count": 6,
      "metadata": {
        "id": "FkeRRaru0dg-"
      },
      "outputs": [],
      "source": [
        "files = os.listdir()"
      ]
    },
    {
      "cell_type": "code",
      "execution_count": 7,
      "metadata": {
        "id": "uGxysq5HINGG"
      },
      "outputs": [],
      "source": [
        "#The folder contains some other files so we manualy remove them below\n",
        "patient_ids = files[2:-1]"
      ]
    },
    {
      "cell_type": "code",
      "execution_count": 8,
      "metadata": {
        "colab": {
          "base_uri": "https://localhost:8080/"
        },
        "id": "zhbi761bIgIM",
        "outputId": "c9c33cb2-d9c1-4cd8-c5f0-ce69c569faad"
      },
      "outputs": [
        {
          "output_type": "execute_result",
          "data": {
            "text/plain": [
              "248"
            ]
          },
          "metadata": {},
          "execution_count": 8
        }
      ],
      "source": [
        "len(patient_ids) #number of patients"
      ]
    },
    {
      "cell_type": "markdown",
      "source": [
        "We count the number of labels which have cancer and which do not."
      ],
      "metadata": {
        "id": "FJGPiOMAUcLb"
      }
    },
    {
      "cell_type": "code",
      "execution_count": 9,
      "metadata": {
        "colab": {
          "base_uri": "https://localhost:8080/"
        },
        "id": "q0RYqB1pIXuQ",
        "outputId": "35da043b-0f3d-4305-9e85-51678fb7d238"
      },
      "outputs": [
        {
          "output_type": "stream",
          "name": "stdout",
          "text": [
            "Number of patches in Class 0: 164947\n",
            "Number of patches in Class 1: 68252\n",
            "Total number of patches: 233199\n"
          ]
        }
      ],
      "source": [
        "class_0_total = 0\n",
        "class_1_total = 0\n",
        "from pprint import pprint\n",
        "for patient_id in patient_ids:\n",
        "    class_0_files = os.listdir(patient_id + '/0')\n",
        "    class_1_files = os.listdir(patient_id + '/1')\n",
        "\n",
        "    class_0_total += len(class_0_files)\n",
        "    class_1_total += len(class_1_files) \n",
        "    \n",
        "\n",
        "total_images = class_0_total + class_1_total\n",
        "    \n",
        "print(f'Number of patches in Class 0: {class_0_total}')\n",
        "print(f'Number of patches in Class 1: {class_1_total}')\n",
        "print(f'Total number of patches: {total_images}')"
      ]
    },
    {
      "cell_type": "markdown",
      "source": [
        "We will create a dataframe with the columns patient_id, x coordinate of patch, y coordinate of patch, target label and the path of the image"
      ],
      "metadata": {
        "id": "mPRvSpJVUsBr"
      }
    },
    {
      "cell_type": "code",
      "execution_count": 10,
      "metadata": {
        "id": "lEWvox4AOfEI"
      },
      "outputs": [],
      "source": [
        "columns = [\"patient_id\",'x','y',\"target\",\"path\"]\n",
        "data_rows = []\n",
        "i = 0\n",
        "iss = 0\n",
        "isss = 0\n",
        "\n",
        "# note that we loop through the classes after looping through the \n",
        "# patient ids so that we avoid splitting our data into [all class 0 then all class 1]\n",
        "for patient_id in patient_ids:\n",
        "    for c in [0,1]:\n",
        "        class_path = patient_id + '/' + str(c) + '/'\n",
        "        imgs = os.listdir(class_path)\n",
        "        \n",
        "        # Extracting Image Paths\n",
        "        img_paths = [class_path + img + '/' for img in imgs]\n",
        "        \n",
        "        # Extracting Image Coordinates\n",
        "        img_coords = [img.split('_',4)[2:4] for img in imgs]\n",
        "        x_coords = [int(coords[0][1:]) for coords in img_coords]\n",
        "        y_coords = [int(coords[1][1:]) for coords in img_coords]\n",
        "\n",
        "        for (path,x,y) in zip(img_paths,x_coords,y_coords):\n",
        "            values = [patient_id,x,y,c,path]\n",
        "            data_rows.append({k:v for (k,v) in zip(columns,values)})\n",
        "# We create a new dataframe using the list of dicts that we generated above\n",
        "cancer_data = pd.DataFrame(data_rows)"
      ]
    },
    {
      "cell_type": "markdown",
      "source": [
        "We print out a few rows of the data frame to check how the entries look."
      ],
      "metadata": {
        "id": "67SGJUpGVD5q"
      }
    },
    {
      "cell_type": "code",
      "execution_count": 11,
      "metadata": {
        "colab": {
          "base_uri": "https://localhost:8080/",
          "height": 442
        },
        "id": "XT8SW_nbPZO0",
        "outputId": "0c282ddd-fb72-4ec7-8f74-d5517624a827"
      },
      "outputs": [
        {
          "output_type": "stream",
          "name": "stdout",
          "text": [
            "Shape of Dataframe: (233199, 5)\n"
          ]
        },
        {
          "output_type": "execute_result",
          "data": {
            "text/html": [
              "\n",
              "  <div id=\"df-93c1a58b-97e3-48c2-b06b-4c75e6ff70e0\">\n",
              "    <div class=\"colab-df-container\">\n",
              "      <div>\n",
              "<style scoped>\n",
              "    .dataframe tbody tr th:only-of-type {\n",
              "        vertical-align: middle;\n",
              "    }\n",
              "\n",
              "    .dataframe tbody tr th {\n",
              "        vertical-align: top;\n",
              "    }\n",
              "\n",
              "    .dataframe thead th {\n",
              "        text-align: right;\n",
              "    }\n",
              "</style>\n",
              "<table border=\"1\" class=\"dataframe\">\n",
              "  <thead>\n",
              "    <tr style=\"text-align: right;\">\n",
              "      <th></th>\n",
              "      <th>patient_id</th>\n",
              "      <th>x</th>\n",
              "      <th>y</th>\n",
              "      <th>target</th>\n",
              "      <th>path</th>\n",
              "    </tr>\n",
              "  </thead>\n",
              "  <tbody>\n",
              "    <tr>\n",
              "      <th>0</th>\n",
              "      <td>10253</td>\n",
              "      <td>1001</td>\n",
              "      <td>1001</td>\n",
              "      <td>0</td>\n",
              "      <td>10253/0/10253_idx5_x1001_y1001_class0.png/</td>\n",
              "    </tr>\n",
              "    <tr>\n",
              "      <th>1</th>\n",
              "      <td>10253</td>\n",
              "      <td>1101</td>\n",
              "      <td>1201</td>\n",
              "      <td>0</td>\n",
              "      <td>10253/0/10253_idx5_x1101_y1201_class0.png/</td>\n",
              "    </tr>\n",
              "    <tr>\n",
              "      <th>2</th>\n",
              "      <td>10253</td>\n",
              "      <td>1101</td>\n",
              "      <td>551</td>\n",
              "      <td>0</td>\n",
              "      <td>10253/0/10253_idx5_x1101_y551_class0.png/</td>\n",
              "    </tr>\n",
              "    <tr>\n",
              "      <th>3</th>\n",
              "      <td>10253</td>\n",
              "      <td>1101</td>\n",
              "      <td>1001</td>\n",
              "      <td>0</td>\n",
              "      <td>10253/0/10253_idx5_x1101_y1001_class0.png/</td>\n",
              "    </tr>\n",
              "    <tr>\n",
              "      <th>4</th>\n",
              "      <td>10253</td>\n",
              "      <td>1001</td>\n",
              "      <td>601</td>\n",
              "      <td>0</td>\n",
              "      <td>10253/0/10253_idx5_x1001_y601_class0.png/</td>\n",
              "    </tr>\n",
              "    <tr>\n",
              "      <th>...</th>\n",
              "      <td>...</td>\n",
              "      <td>...</td>\n",
              "      <td>...</td>\n",
              "      <td>...</td>\n",
              "      <td>...</td>\n",
              "    </tr>\n",
              "    <tr>\n",
              "      <th>520</th>\n",
              "      <td>10253</td>\n",
              "      <td>851</td>\n",
              "      <td>501</td>\n",
              "      <td>1</td>\n",
              "      <td>10253/1/10253_idx5_x851_y501_class1.png/</td>\n",
              "    </tr>\n",
              "    <tr>\n",
              "      <th>521</th>\n",
              "      <td>10253</td>\n",
              "      <td>701</td>\n",
              "      <td>501</td>\n",
              "      <td>1</td>\n",
              "      <td>10253/1/10253_idx5_x701_y501_class1.png/</td>\n",
              "    </tr>\n",
              "    <tr>\n",
              "      <th>522</th>\n",
              "      <td>10253</td>\n",
              "      <td>701</td>\n",
              "      <td>351</td>\n",
              "      <td>1</td>\n",
              "      <td>10253/1/10253_idx5_x701_y351_class1.png/</td>\n",
              "    </tr>\n",
              "    <tr>\n",
              "      <th>523</th>\n",
              "      <td>10253</td>\n",
              "      <td>801</td>\n",
              "      <td>651</td>\n",
              "      <td>1</td>\n",
              "      <td>10253/1/10253_idx5_x801_y651_class1.png/</td>\n",
              "    </tr>\n",
              "    <tr>\n",
              "      <th>524</th>\n",
              "      <td>10253</td>\n",
              "      <td>801</td>\n",
              "      <td>301</td>\n",
              "      <td>1</td>\n",
              "      <td>10253/1/10253_idx5_x801_y301_class1.png/</td>\n",
              "    </tr>\n",
              "  </tbody>\n",
              "</table>\n",
              "<p>525 rows × 5 columns</p>\n",
              "</div>\n",
              "      <button class=\"colab-df-convert\" onclick=\"convertToInteractive('df-93c1a58b-97e3-48c2-b06b-4c75e6ff70e0')\"\n",
              "              title=\"Convert this dataframe to an interactive table.\"\n",
              "              style=\"display:none;\">\n",
              "        \n",
              "  <svg xmlns=\"http://www.w3.org/2000/svg\" height=\"24px\"viewBox=\"0 0 24 24\"\n",
              "       width=\"24px\">\n",
              "    <path d=\"M0 0h24v24H0V0z\" fill=\"none\"/>\n",
              "    <path d=\"M18.56 5.44l.94 2.06.94-2.06 2.06-.94-2.06-.94-.94-2.06-.94 2.06-2.06.94zm-11 1L8.5 8.5l.94-2.06 2.06-.94-2.06-.94L8.5 2.5l-.94 2.06-2.06.94zm10 10l.94 2.06.94-2.06 2.06-.94-2.06-.94-.94-2.06-.94 2.06-2.06.94z\"/><path d=\"M17.41 7.96l-1.37-1.37c-.4-.4-.92-.59-1.43-.59-.52 0-1.04.2-1.43.59L10.3 9.45l-7.72 7.72c-.78.78-.78 2.05 0 2.83L4 21.41c.39.39.9.59 1.41.59.51 0 1.02-.2 1.41-.59l7.78-7.78 2.81-2.81c.8-.78.8-2.07 0-2.86zM5.41 20L4 18.59l7.72-7.72 1.47 1.35L5.41 20z\"/>\n",
              "  </svg>\n",
              "      </button>\n",
              "      \n",
              "  <style>\n",
              "    .colab-df-container {\n",
              "      display:flex;\n",
              "      flex-wrap:wrap;\n",
              "      gap: 12px;\n",
              "    }\n",
              "\n",
              "    .colab-df-convert {\n",
              "      background-color: #E8F0FE;\n",
              "      border: none;\n",
              "      border-radius: 50%;\n",
              "      cursor: pointer;\n",
              "      display: none;\n",
              "      fill: #1967D2;\n",
              "      height: 32px;\n",
              "      padding: 0 0 0 0;\n",
              "      width: 32px;\n",
              "    }\n",
              "\n",
              "    .colab-df-convert:hover {\n",
              "      background-color: #E2EBFA;\n",
              "      box-shadow: 0px 1px 2px rgba(60, 64, 67, 0.3), 0px 1px 3px 1px rgba(60, 64, 67, 0.15);\n",
              "      fill: #174EA6;\n",
              "    }\n",
              "\n",
              "    [theme=dark] .colab-df-convert {\n",
              "      background-color: #3B4455;\n",
              "      fill: #D2E3FC;\n",
              "    }\n",
              "\n",
              "    [theme=dark] .colab-df-convert:hover {\n",
              "      background-color: #434B5C;\n",
              "      box-shadow: 0px 1px 3px 1px rgba(0, 0, 0, 0.15);\n",
              "      filter: drop-shadow(0px 1px 2px rgba(0, 0, 0, 0.3));\n",
              "      fill: #FFFFFF;\n",
              "    }\n",
              "  </style>\n",
              "\n",
              "      <script>\n",
              "        const buttonEl =\n",
              "          document.querySelector('#df-93c1a58b-97e3-48c2-b06b-4c75e6ff70e0 button.colab-df-convert');\n",
              "        buttonEl.style.display =\n",
              "          google.colab.kernel.accessAllowed ? 'block' : 'none';\n",
              "\n",
              "        async function convertToInteractive(key) {\n",
              "          const element = document.querySelector('#df-93c1a58b-97e3-48c2-b06b-4c75e6ff70e0');\n",
              "          const dataTable =\n",
              "            await google.colab.kernel.invokeFunction('convertToInteractive',\n",
              "                                                     [key], {});\n",
              "          if (!dataTable) return;\n",
              "\n",
              "          const docLinkHtml = 'Like what you see? Visit the ' +\n",
              "            '<a target=\"_blank\" href=https://colab.research.google.com/notebooks/data_table.ipynb>data table notebook</a>'\n",
              "            + ' to learn more about interactive tables.';\n",
              "          element.innerHTML = '';\n",
              "          dataTable['output_type'] = 'display_data';\n",
              "          await google.colab.output.renderOutput(dataTable, element);\n",
              "          const docLink = document.createElement('div');\n",
              "          docLink.innerHTML = docLinkHtml;\n",
              "          element.appendChild(docLink);\n",
              "        }\n",
              "      </script>\n",
              "    </div>\n",
              "  </div>\n",
              "  "
            ],
            "text/plain": [
              "    patient_id     x     y  target                                        path\n",
              "0        10253  1001  1001       0  10253/0/10253_idx5_x1001_y1001_class0.png/\n",
              "1        10253  1101  1201       0  10253/0/10253_idx5_x1101_y1201_class0.png/\n",
              "2        10253  1101   551       0   10253/0/10253_idx5_x1101_y551_class0.png/\n",
              "3        10253  1101  1001       0  10253/0/10253_idx5_x1101_y1001_class0.png/\n",
              "4        10253  1001   601       0   10253/0/10253_idx5_x1001_y601_class0.png/\n",
              "..         ...   ...   ...     ...                                         ...\n",
              "520      10253   851   501       1    10253/1/10253_idx5_x851_y501_class1.png/\n",
              "521      10253   701   501       1    10253/1/10253_idx5_x701_y501_class1.png/\n",
              "522      10253   701   351       1    10253/1/10253_idx5_x701_y351_class1.png/\n",
              "523      10253   801   651       1    10253/1/10253_idx5_x801_y651_class1.png/\n",
              "524      10253   801   301       1    10253/1/10253_idx5_x801_y301_class1.png/\n",
              "\n",
              "[525 rows x 5 columns]"
            ]
          },
          "metadata": {},
          "execution_count": 11
        }
      ],
      "source": [
        "print(f'Shape of Dataframe: {cancer_data.shape}')\n",
        "cancer_data[0:525]"
      ]
    },
    {
      "cell_type": "markdown",
      "source": [
        "# Visualizing Data\n",
        "Here we plot histograms for number of patches per patient and percentage of patches with cancer."
      ],
      "metadata": {
        "id": "qJ7whOskVPq9"
      }
    },
    {
      "cell_type": "code",
      "execution_count": 12,
      "metadata": {
        "colab": {
          "base_uri": "https://localhost:8080/",
          "height": 425
        },
        "id": "XmyYTNMRTpkx",
        "outputId": "0a7a3e24-68b7-4df7-feda-775f72e7c981"
      },
      "outputs": [
        {
          "output_type": "stream",
          "name": "stderr",
          "text": [
            "/usr/local/lib/python3.7/dist-packages/seaborn/distributions.py:2619: FutureWarning: `distplot` is a deprecated function and will be removed in a future version. Please adapt your code to use either `displot` (a figure-level function with similar flexibility) or `histplot` (an axes-level function for histograms).\n",
            "  warnings.warn(msg, FutureWarning)\n"
          ]
        },
        {
          "output_type": "execute_result",
          "data": {
            "text/plain": [
              "Text(0.5, 0, '% of patches with IDC')"
            ]
          },
          "metadata": {},
          "execution_count": 12
        },
        {
          "output_type": "display_data",
          "data": {
            "image/png": "[encoded data removed]",
            "text/plain": [
              "<Figure size 1440x360 with 2 Axes>"
            ]
          },
          "metadata": {
            "needs_background": "light"
          }
        }
      ],
      "source": [
        "cancer_perc = cancer_data.groupby(\"patient_id\").target.value_counts()/ cancer_data.groupby(\"patient_id\").target.size()\n",
        "cancer_perc = cancer_perc.unstack()\n",
        "\n",
        "fig, ax = plt.subplots(1,2,figsize=(20,5))\n",
        "\n",
        "# Plotting Frequency of Patches per Patient\n",
        "sns.distplot(cancer_data.groupby(\"patient_id\").size(), ax=ax[0], color=\"crimson\", kde=False, bins=15)\n",
        "ax[0].set_xlabel(\"Number of patches\")\n",
        "ax[0].set_ylabel(\"Frequency\")\n",
        "ax[0].set_title(\"How many patches do we have per patient?\")\n",
        "\n",
        "# Plotting Percentage of an image that is covered by Invasive Ductile Carcinoma\n",
        "sns.distplot(cancer_perc.loc[:, 1]*100, ax=ax[1], color=\"indigo\", kde=False, bins=15)\n",
        "ax[1].set_title(\"How much percentage of an image is covered by IDC?\")\n",
        "ax[1].set_ylabel(\"Frequency\")\n",
        "ax[1].set_xlabel(\"% of patches with IDC\")\n",
        "\n",
        "\n"
      ]
    },
    {
      "cell_type": "code",
      "source": [
        "# Plotting number of patches that show IDC\n",
        "fig, ax = plt.subplots(1,1,figsize=(6,6))\n",
        "pnum=len(cancer_data[cancer_data.target==1])\n",
        "nnum=len(cancer_data[cancer_data.target==0])\n",
        "piedata = [float(pnum), float(nnum)]\n",
        "labels = ['IDC', 'no IDC']\n",
        "colors = sns.color_palette('pastel')\n",
        "plt.pie(piedata, labels=labels ,colors = colors,autopct = '%0.0f%%')\n",
        "plt.ylabel(\"Count\")\n",
        "plt.title(\"How many patches show IDC?\");\n",
        "plt.show()"
      ],
      "metadata": {
        "colab": {
          "base_uri": "https://localhost:8080/",
          "height": 373
        },
        "id": "VEIA4z1q4ua-",
        "outputId": "e9cfbf04-b51d-4e54-88f9-64f0deff2d00"
      },
      "execution_count": 13,
      "outputs": [
        {
          "output_type": "display_data",
          "data": {
            "image/png": "[encoded data removed]",
            "text/plain": [
              "<Figure size 432x432 with 1 Axes>"
            ]
          },
          "metadata": {}
        }
      ]
    },
    {
      "cell_type": "markdown",
      "source": [
        "We create a heat map to show where most cancerous cells are usually found."
      ],
      "metadata": {
        "id": "S3csIJ9hV45Q"
      }
    },
    {
      "cell_type": "code",
      "source": [
        "heat = np.zeros((80,80))\n",
        "\n",
        "for index, row in cancer_data[cancer_data.target==1].iterrows():\n",
        "  x = int((row['x']-1)/50)\n",
        "  y = int((row['y']-1)/50)\n",
        "  heat[x,y] += 1\n",
        "\n",
        "ax2 =sns.heatmap(heat)"
      ],
      "metadata": {
        "colab": {
          "base_uri": "https://localhost:8080/",
          "height": 268
        },
        "id": "E8V3Qx1UueM8",
        "outputId": "45a45e62-5b12-4da9-c979-ba6dee153ddd"
      },
      "execution_count": 14,
      "outputs": [
        {
          "output_type": "display_data",
          "data": {
            "image/png": "[encoded data removed]",
            "text/plain": [
              "<Figure size 432x288 with 2 Axes>"
            ]
          },
          "metadata": {
            "needs_background": "light"
          }
        }
      ]
    },
    {
      "cell_type": "markdown",
      "source": [
        "# Refining the data\n",
        "The data above had severe bias because most of the samples did not contain cancer. So we have to balnce this out before feeding it into a machine learning algorithm.\n",
        "\n",
        "To balance, we use the heat map to figure out where the cancer is usually found and re sample from that region.\n",
        "\n",
        "After refining we visualize the data again to see if there is any improvement."
      ],
      "metadata": {
        "id": "t5Jz4SbKWEn1"
      }
    },
    {
      "cell_type": "code",
      "source": [
        "#Refining data manually because there is no enough ram for PCA\n",
        "cancer_data_subset= cancer_data.loc[(cancer_data.x>400) & (cancer_data.x<2000) & (cancer_data.y>600) & (cancer_data.y<2000)]\n",
        "\n",
        "\n",
        "\n",
        "# Plotting number of patches that show IDC after refinement\n",
        "fig, ax = plt.subplots(1,1,figsize=(6,6))\n",
        "pnum=len(cancer_data_subset[cancer_data_subset.target==1])\n",
        "nnum=len(cancer_data_subset[cancer_data_subset.target==0])\n",
        "piedata = [float(pnum), float(nnum)]\n",
        "labels = ['IDC', 'no IDC']\n",
        "colors = sns.color_palette('pastel')\n",
        "plt.pie(piedata, labels=labels ,colors = colors,autopct = '%0.0f%%')\n",
        "plt.ylabel(\"Count\")\n",
        "plt.title(\"How many patches show IDC?\");\n",
        "plt.show()\n",
        "\n",
        "#heat map zoomed in\n",
        "heat_ref = np.zeros((32,28))\n",
        "\n",
        "\n",
        "\n",
        "\n",
        "for index, row in cancer_data_subset[cancer_data_subset.target==1].iterrows():\n",
        "\n",
        "  x = int((row['x']-1)/50)-8\n",
        "\n",
        "  y = int((row['y']-1)/50)-12\n",
        "\n",
        "  heat_ref[x,y] += 1\n",
        "\n",
        "\n",
        "\n",
        "\n",
        "ax2 =sns.heatmap(heat_ref)"
      ],
      "metadata": {
        "colab": {
          "base_uri": "https://localhost:8080/",
          "height": 621
        },
        "id": "rSE6v6Dcuy6r",
        "outputId": "f0688f87-179a-4d7d-dd70-972c860af82a"
      },
      "execution_count": 15,
      "outputs": [
        {
          "output_type": "display_data",
          "data": {
            "image/png": "[encoded data removed]",
            "text/plain": [
              "<Figure size 432x432 with 1 Axes>"
            ]
          },
          "metadata": {}
        },
        {
          "output_type": "display_data",
          "data": {
            "image/png": "[encoded data removed]",
            "text/plain": [
              "<Figure size 432x288 with 2 Axes>"
            ]
          },
          "metadata": {
            "needs_background": "light"
          }
        }
      ]
    },
    {
      "cell_type": "code",
      "source": [
        "#refined data chart\n",
        "newcancer_perc = cancer_data_subset.groupby(\"patient_id\").target.value_counts()/ cancer_data_subset.groupby(\"patient_id\").target.size()\n",
        "newcancer_perc = newcancer_perc.unstack()\n",
        "\n",
        "fig, ax = plt.subplots(1,2,figsize=(20,5))\n",
        "# Plotting Percentage of a non-refined image that is covered by Invasive Ductile Carcinoma\n",
        "sns.distplot(cancer_perc.loc[:, 1]*100, ax=ax[0], color=\"indigo\", kde=False, bins=15)\n",
        "ax[0].set_title(\"How much percentage of a non-refined image is covered by IDC?\")\n",
        "ax[0].set_ylabel(\"Frequency\")\n",
        "ax[0].set_xlabel(\"% of patches with IDC\")\n",
        "ax[0].set_ylim(0,35)\n",
        "\n",
        "\n",
        "# Plotting Percentage of a refined image that is covered by Invasive Ductile Carcinoma\n",
        "sns.distplot(newcancer_perc.loc[:, 1]*100, ax=ax[1], color=\"indigo\", kde=False, bins=15)\n",
        "ax[1].set_title(\"How much percentage of a refined image is covered by IDC?\")\n",
        "ax[1].set_ylabel(\"Frequency\")\n",
        "ax[1].set_xlabel(\"% of patches with IDC\")\n",
        "ax[1].set_ylim(0,35)\n",
        "\n",
        "#The plot shows that now there are more patches with >60% IDC images, \n",
        "#which makes sense, since we threw out patches with fewer IDC images.\n",
        "\n",
        "\n",
        "\n",
        "\n"
      ],
      "metadata": {
        "colab": {
          "base_uri": "https://localhost:8080/",
          "height": 425
        },
        "id": "D0EUONkJ0gmo",
        "outputId": "98c3dacf-b178-412e-a67a-6c1fbffc8096"
      },
      "execution_count": 16,
      "outputs": [
        {
          "output_type": "stream",
          "name": "stderr",
          "text": [
            "/usr/local/lib/python3.7/dist-packages/seaborn/distributions.py:2619: FutureWarning: `distplot` is a deprecated function and will be removed in a future version. Please adapt your code to use either `displot` (a figure-level function with similar flexibility) or `histplot` (an axes-level function for histograms).\n",
            "  warnings.warn(msg, FutureWarning)\n"
          ]
        },
        {
          "output_type": "execute_result",
          "data": {
            "text/plain": [
              "(0.0, 35.0)"
            ]
          },
          "metadata": {},
          "execution_count": 16
        },
        {
          "output_type": "display_data",
          "data": {
            "image/png": "[encoded data removed]",
            "text/plain": [
              "<Figure size 1440x360 with 2 Axes>"
            ]
          },
          "metadata": {
            "needs_background": "light"
          }
        }
      ]
    },
    {
      "cell_type": "markdown",
      "source": [
        "# Visualizing Images\n",
        "\n",
        "Below we will show some of the cancerous and non cancerous images to see if we can identify any features that will help distinguish them better.\n",
        "\n",
        "One guess is that color of the cell can dictate whether it has cancer or not. But from the images below it looks like that is not a good criterion!"
      ],
      "metadata": {
        "id": "RM6sAW2yW2gi"
      }
    },
    {
      "cell_type": "code",
      "execution_count": 20,
      "metadata": {
        "id": "w7rB5um3UV4K"
      },
      "outputs": [],
      "source": [
        "positive_tissue = np.random.choice(cancer_data[cancer_data.target==1].index.values, size=100, replace=False)\n",
        "negative_tissue = np.random.choice(cancer_data[cancer_data.target==0].index.values, size=100, replace=False)\n",
        "\n",
        "n_rows = 5\n",
        "n_cols = 5"
      ]
    },
    {
      "cell_type": "code",
      "execution_count": null,
      "metadata": {
        "id": "nuwNtAFjUbJg"
      },
      "outputs": [],
      "source": [
        "from skimage import  data,io, segmentation, color\n",
        "#plotting tissues with cancer\n",
        "fig,ax = plt.subplots(n_rows,n_cols,figsize = (30,30))\n",
        "\n",
        "for row in range(n_rows):\n",
        "    for col in range(n_cols):\n",
        "        # below is a counter to cycle through the image indexes\n",
        "        idx = positive_tissue[col + n_cols*row]\n",
        "        img = io.imread(cancer_data.loc[idx, \"path\"])\n",
        "        ax[row,col].imshow(img[:,:,:])\n",
        "        ax[row,col].grid(False)"
      ]
    },
    {
      "cell_type": "code",
      "source": [
        "from skimage import  data,io, segmentation, color\n",
        "#plotting tissues without cancer\n",
        "fig,ax = plt.subplots(n_rows,n_cols,figsize = (30,30))\n",
        "\n",
        "for row in range(n_rows):\n",
        "    for col in range(n_cols):\n",
        "        # below is a counter to cycle through the image indexes\n",
        "        idx = negative_tissue[col + n_cols*row]\n",
        "        img = io.imread(cancer_data.loc[idx, \"path\"])\n",
        "        ax[row,col].imshow(img[:,:,:])\n",
        "        ax[row,col].grid(False)"
      ],
      "metadata": {
        "id": "weJahuoqBaZS"
      },
      "execution_count": null,
      "outputs": []
    },
    {
      "cell_type": "code",
      "execution_count": null,
      "metadata": {
        "id": "uMKLgpm2pMQ9"
      },
      "outputs": [],
      "source": [
        "from matplotlib.colors import ListedColormap\n",
        "def get_patient_df(patient_id):\n",
        "    return cancer_data.loc[cancer_data['patient_id']== patient_id,:]"
      ]
    },
    {
      "cell_type": "code",
      "source": [
        "from seaborn.rcmod import axes_style\n",
        "n_rows = 5\n",
        "n_cols = 3\n",
        "n_imgs = n_rows*n_cols\n",
        "colors = ['pink', 'purple']\n",
        "\n",
        "fig, ax = plt.subplots(n_rows,n_cols,figsize=(20, 27))\n",
        "\n",
        "patient_ids = np.random.choice( cancer_data.patient_id.unique(), size=n_imgs, replace=False)\n",
        "\n",
        "for row in range(n_rows):\n",
        "    for col in range(n_cols):\n",
        "        patient_id = patient_ids[col + n_cols*row]\n",
        "        patient_df = get_patient_df(patient_id)\n",
        "        \n",
        "        ax[row,col].scatter(patient_df.x.values, \\\n",
        "                            patient_df.y.values, \\\n",
        "                            c=patient_df.target.values,\\\n",
        "                            cmap=ListedColormap(colors), s=20)\n",
        "        ax[row,col].set_title(\"patient \" + patient_id)\n"
      ],
      "metadata": {
        "id": "oF9TMlfEDcNg"
      },
      "execution_count": null,
      "outputs": []
    },
    {
      "cell_type": "markdown",
      "source": [
        "# Loading data\n",
        "\n",
        "In this section, we load the data from this refined subset to an array in a small batch which we will use to train the classifier. We also perform the train-test split"
      ],
      "metadata": {
        "id": "0HYmJuoRXsQd"
      }
    },
    {
      "cell_type": "code",
      "source": [
        "import cv2\n",
        "count=0\n",
        "img_array=np.zeros((20000,7500))\n",
        "for j in cancer_data_subset.index:\n",
        "  if count%1000==0:\n",
        "    print(j)\n",
        "  img=cv2.imread(cancer_data_subset.loc[j,\"path\"][:-1]).flatten()\n",
        "  img_array[count,:]=img\n",
        "  count=count+1"
      ],
      "metadata": {
        "id": "EZvbHc3C0Dgj"
      },
      "execution_count": null,
      "outputs": []
    },
    {
      "cell_type": "code",
      "source": [
        "img_array=img_array[:13000]"
      ],
      "metadata": {
        "id": "genq81rak2t0"
      },
      "execution_count": 24,
      "outputs": []
    },
    {
      "cell_type": "code",
      "source": [
        "labels=cancer_data_subset[:13000][\"target\"]"
      ],
      "metadata": {
        "id": "sfC6Por8FDUt"
      },
      "execution_count": 25,
      "outputs": []
    },
    {
      "cell_type": "code",
      "source": [
        "image_train, image_test, label_train, label_test = train_test_split(img_array, labels, test_size=0.2, random_state=42)\n",
        "\n",
        "\n",
        "\n",
        "\n",
        "\n",
        "\n",
        "\n",
        "\n"
      ],
      "metadata": {
        "id": "nK3U-cVvBsmc"
      },
      "execution_count": 26,
      "outputs": []
    },
    {
      "cell_type": "markdown",
      "source": [
        "# Principal component analysis\n",
        "\n",
        "We do PCA to reduce the dimension of the data to 500 from 7500, while retaining almost 90% of the information."
      ],
      "metadata": {
        "id": "bCuR_gtnZ__g"
      }
    },
    {
      "cell_type": "code",
      "source": [
        "from sklearn.decomposition import PCA\n",
        "pca = PCA(n_components=500)\n",
        "image_pca = pca.fit_transform(image_train)\n",
        "print(pca.explained_variance_ratio_[:3])\n",
        "\n",
        "cumulative_variance_ratio = 100*np.cumsum(pca.explained_variance_ratio_[:500])\n",
        "print(cumulative_variance_ratio)"
      ],
      "metadata": {
        "colab": {
          "base_uri": "https://localhost:8080/"
        },
        "id": "9oY4W_grIQaJ",
        "outputId": "066e8419-2678-41a2-816d-492b17104323"
      },
      "execution_count": 29,
      "outputs": [
        {
          "output_type": "stream",
          "name": "stdout",
          "text": [
            "[0.44808607 0.03729064 0.03234962]\n",
            "[44.80860699 48.53767063 51.77263241 54.61906583 55.96009889 57.15973735\n",
            " 58.11686046 58.82863162 59.49153326 60.08184649 60.60127433 61.07308255\n",
            " 61.52904732 61.94166338 62.30452352 62.64366961 62.97233278 63.29702841\n",
            " 63.61342532 63.89286656 64.15662684 64.41694955 64.66969579 64.91244662\n",
            " 65.14441114 65.37393313 65.59928538 65.81694266 66.0296795  66.23921855\n",
            " 66.44687441 66.64778948 66.83972981 67.02366301 67.20500336 67.38056036\n",
            " 67.55239026 67.7220778  67.88660485 68.04694509 68.20624906 68.35855784\n",
            " 68.51045622 68.65894312 68.80495039 68.94709594 69.08830347 69.22926604\n",
            " 69.36589791 69.50135335 69.63551736 69.76599486 69.89478316 70.01982007\n",
            " 70.14210293 70.26295428 70.38195844 70.49906878 70.61481084 70.72713841\n",
            " 70.83834352 70.94855334 71.05649401 71.16420751 71.27023756 71.37526325\n",
            " 71.4791575  71.58127633 71.68267195 71.78227391 71.88086387 71.97749957\n",
            " 72.0719121  72.16585944 72.2594264  72.35277375 72.44392675 72.53430996\n",
            " 72.62410058 72.71227576 72.7993462  72.88569496 72.97102237 73.05562092\n",
            " 73.13882287 73.22153854 73.30404295 73.38561953 73.46573573 73.54521096\n",
            " 73.62426518 73.70195359 73.77868993 73.85462521 73.93002703 74.00491622\n",
            " 74.07972797 74.15329114 74.22666339 74.2990257  74.37100283 74.44294899\n",
            " 74.51409222 74.58503156 74.65519881 74.72400433 74.79252954 74.8600977\n",
            " 74.92665785 74.99298233 75.05908032 75.1249212  75.1898468  75.25427464\n",
            " 75.31795933 75.38130843 75.44391105 75.50603955 75.56766674 75.62891968\n",
            " 75.68928128 75.74942809 75.80952856 75.86903195 75.92828775 75.98652396\n",
            " 76.04465417 76.10240499 76.1599113  76.21695804 76.27376606 76.33047601\n",
            " 76.38649703 76.44211924 76.4971244  76.55206268 76.60669348 76.66097003\n",
            " 76.71488424 76.76849881 76.82202658 76.87484291 76.92735949 76.97958571\n",
            " 77.03158742 77.08324193 77.13455648 77.1854905  77.23581087 77.28600421\n",
            " 77.33581469 77.38540837 77.43465372 77.48370984 77.53241231 77.58057391\n",
            " 77.62846509 77.67612044 77.7232946  77.77013184 77.81675765 77.86331048\n",
            " 77.9093911  77.95516291 78.00077999 78.04596155 78.09094699 78.13579063\n",
            " 78.18020565 78.22440837 78.26846848 78.31227915 78.35588005 78.39939865\n",
            " 78.44259257 78.48561279 78.52826367 78.57059009 78.61273967 78.65482713\n",
            " 78.69662969 78.73835441 78.77991556 78.82115698 78.86229026 78.90317165\n",
            " 78.94382402 78.98424396 79.0246056  79.06475639 79.10462288 79.14437968\n",
            " 79.18384025 79.22312396 79.26233287 79.30146527 79.3404027  79.37912764\n",
            " 79.41774702 79.45622748 79.49461223 79.53274529 79.57065412 79.60838301\n",
            " 79.64589834 79.6832072  79.72046459 79.75750229 79.79440359 79.83116323\n",
            " 79.86782176 79.90406515 79.94021537 79.97626097 80.01206868 80.04780736\n",
            " 80.08348099 80.11902623 80.15445086 80.18976972 80.22500525 80.26008648\n",
            " 80.2949024  80.32958925 80.36423489 80.3988597  80.43318919 80.46737022\n",
            " 80.50143371 80.53536001 80.56919506 80.60285884 80.63642073 80.66984326\n",
            " 80.70311035 80.7360902  80.76897616 80.80182377 80.83452816 80.86703791\n",
            " 80.89934432 80.93152341 80.96364723 80.99560865 81.0275136  81.05933712\n",
            " 81.09100808 81.1225826  81.15402199 81.18536415 81.21662505 81.24766469\n",
            " 81.27864882 81.30956296 81.34027917 81.37096239 81.40151473 81.43201427\n",
            " 81.46247692 81.49259847 81.52270005 81.55271602 81.58262165 81.61245698\n",
            " 81.64205159 81.67162073 81.70098612 81.73027024 81.75951449 81.78864612\n",
            " 81.81776513 81.84666326 81.87549022 81.90424634 81.93293593 81.96151783\n",
            " 81.9899732  82.01837242 82.0466184  82.07484703 82.10287545 82.13081751\n",
            " 82.15872858 82.18651998 82.21422201 82.24182718 82.26933975 82.29681587\n",
            " 82.32412111 82.35139696 82.37860847 82.40569729 82.43268292 82.45955449\n",
            " 82.48634834 82.51304525 82.53965134 82.5661661  82.59264465 82.61906058\n",
            " 82.64535238 82.67152803 82.69767485 82.72369987 82.74968454 82.77562\n",
            " 82.80153073 82.82727098 82.85295584 82.87852249 82.90406408 82.92954246\n",
            " 82.95488821 82.98013102 83.00535887 83.03055728 83.0556452  83.08066885\n",
            " 83.10562234 83.13052801 83.15539603 83.18017252 83.20490793 83.22958729\n",
            " 83.25422261 83.27867521 83.30303877 83.32738242 83.35166629 83.37580004\n",
            " 83.39988199 83.42392551 83.44786738 83.47173843 83.49557713 83.51936083\n",
            " 83.54303661 83.56660485 83.59015078 83.61365534 83.63705193 83.6604193\n",
            " 83.68375251 83.70703268 83.73020582 83.75333709 83.77641477 83.79942307\n",
            " 83.8223621  83.84519895 83.86799354 83.89070352 83.91337668 83.93601727\n",
            " 83.95862242 83.981162   84.00359272 84.02598604 84.04834428 84.07065725\n",
            " 84.09288085 84.11500195 84.13709217 84.15911758 84.18107542 84.20297979\n",
            " 84.22486287 84.24660527 84.26833057 84.28992167 84.3114757  84.33296292\n",
            " 84.35442101 84.37583701 84.39720284 84.41854273 84.43976781 84.46092052\n",
            " 84.48205471 84.50312893 84.52410778 84.54505363 84.56594441 84.58674633\n",
            " 84.60751501 84.62826053 84.64897291 84.66959051 84.69016729 84.71069621\n",
            " 84.73121488 84.7516759  84.772115   84.79254935 84.81287286 84.83314978\n",
            " 84.85336491 84.87352798 84.89362827 84.91372186 84.9337473  84.95375431\n",
            " 84.97367421 84.99353488 85.01333704 85.03310773 85.05280949 85.07248976\n",
            " 85.09213086 85.11168545 85.13120903 85.15068711 85.17008902 85.1894467\n",
            " 85.20872021 85.22793888 85.24710167 85.26622225 85.28529894 85.30436699\n",
            " 85.32338903 85.34235237 85.36125997 85.38010313 85.39886646 85.41758884\n",
            " 85.43630148 85.45486237 85.47339675 85.49191231 85.51036896 85.52878109\n",
            " 85.54715401 85.56551108 85.58380753 85.6020428  85.62024839 85.63840421\n",
            " 85.6565193  85.67461993 85.69263462 85.71061714 85.72858167 85.74648664\n",
            " 85.76436113 85.78217204 85.79994215 85.81762675 85.83528607 85.85290691\n",
            " 85.87045427 85.88796292 85.90544913 85.92290104 85.94028854 85.95758598\n",
            " 85.97484808 85.99207795 86.00926967 86.0264274  86.04353823 86.06062707\n",
            " 86.07763174 86.09460342 86.11153579 86.12842197 86.1452452  86.16201991\n",
            " 86.17874585 86.19541262 86.21204604 86.22866186 86.24519826 86.26171483\n",
            " 86.278205   86.29463904 86.31097105 86.32725349 86.34349224 86.35968537\n",
            " 86.37581513 86.39191782 86.40799905 86.42406618 86.44009535 86.45609668\n",
            " 86.47204574 86.48793149 86.50371792 86.51947288 86.53514897 86.55078897\n",
            " 86.56637565 86.58188257 86.5973705  86.6127931  86.62817373 86.6435171\n",
            " 86.65876839 86.67396589]\n"
          ]
        }
      ]
    },
    {
      "cell_type": "code",
      "source": [
        "image_pca.shape"
      ],
      "metadata": {
        "colab": {
          "base_uri": "https://localhost:8080/"
        },
        "id": "AKmM0z4AOgAz",
        "outputId": "67edac91-8c4d-4d4e-ec69-306ca8f0987f"
      },
      "execution_count": 31,
      "outputs": [
        {
          "output_type": "execute_result",
          "data": {
            "text/plain": [
              "(10400, 500)"
            ]
          },
          "metadata": {},
          "execution_count": 31
        }
      ]
    },
    {
      "cell_type": "code",
      "source": [
        "image_test_pca=pca.transform(image_test)#transforming the test data"
      ],
      "metadata": {
        "id": "i5NGp4LYQG_i"
      },
      "execution_count": 32,
      "outputs": []
    },
    {
      "cell_type": "code",
      "source": [
        "image_test_pca.shape"
      ],
      "metadata": {
        "colab": {
          "base_uri": "https://localhost:8080/"
        },
        "id": "YdCxwaCCQdKf",
        "outputId": "83a0c02a-8f25-4add-c189-98624cc67a5e"
      },
      "execution_count": 33,
      "outputs": [
        {
          "output_type": "execute_result",
          "data": {
            "text/plain": [
              "(2600, 500)"
            ]
          },
          "metadata": {},
          "execution_count": 33
        }
      ]
    },
    {
      "cell_type": "markdown",
      "source": [
        "# Classification\n",
        "\n",
        "We are now in a position to run any classifier. Some choices are Logistic regression, Ridge regression and SVM."
      ],
      "metadata": {
        "id": "Q07yeZiJahV0"
      }
    },
    {
      "cell_type": "code",
      "source": [
        "#classification using logistic regression\n",
        "from sklearn.linear_model import LogisticRegression\n",
        "clf=LogisticRegression()\n",
        "image_reg=clf.fit(image_pca,label_train)"
      ],
      "metadata": {
        "colab": {
          "base_uri": "https://localhost:8080/"
        },
        "id": "88eZPGH7Qolh",
        "outputId": "b3300a30-a7ff-4c6e-ef4f-c3c8ba79e7ca"
      },
      "execution_count": 35,
      "outputs": [
        {
          "output_type": "stream",
          "name": "stderr",
          "text": [
            "/usr/local/lib/python3.7/dist-packages/sklearn/linear_model/_logistic.py:818: ConvergenceWarning: lbfgs failed to converge (status=1):\n",
            "STOP: TOTAL NO. of ITERATIONS REACHED LIMIT.\n",
            "\n",
            "Increase the number of iterations (max_iter) or scale the data as shown in:\n",
            "    https://scikit-learn.org/stable/modules/preprocessing.html\n",
            "Please also refer to the documentation for alternative solver options:\n",
            "    https://scikit-learn.org/stable/modules/linear_model.html#logistic-regression\n",
            "  extra_warning_msg=_LOGISTIC_SOLVER_CONVERGENCE_MSG,\n"
          ]
        }
      ]
    },
    {
      "cell_type": "code",
      "source": [
        "image_pred=image_reg.predict(image_pca)"
      ],
      "metadata": {
        "id": "f05HzwyjQ7F6"
      },
      "execution_count": 37,
      "outputs": []
    },
    {
      "cell_type": "code",
      "source": [
        "sum(abs(image_pred-label_train))"
      ],
      "metadata": {
        "colab": {
          "base_uri": "https://localhost:8080/"
        },
        "id": "T3NKECL7TCP2",
        "outputId": "0774789f-c751-4fdc-aa7f-e80b1d2d26cd"
      },
      "execution_count": 38,
      "outputs": [
        {
          "output_type": "execute_result",
          "data": {
            "text/plain": [
              "2133"
            ]
          },
          "metadata": {},
          "execution_count": 38
        }
      ]
    },
    {
      "cell_type": "code",
      "source": [
        "image_text_pred=image_reg.predict(image_test_pca)"
      ],
      "metadata": {
        "id": "52p5wxsRTd7n"
      },
      "execution_count": 39,
      "outputs": []
    },
    {
      "cell_type": "code",
      "source": [
        "sum(abs(image_text_pred-label_test))"
      ],
      "metadata": {
        "colab": {
          "base_uri": "https://localhost:8080/"
        },
        "id": "tG0FuKntTm-u",
        "outputId": "212bc64c-d634-4273-ccc7-e6265e9dad12"
      },
      "execution_count": 40,
      "outputs": [
        {
          "output_type": "execute_result",
          "data": {
            "text/plain": [
              "560"
            ]
          },
          "metadata": {},
          "execution_count": 40
        }
      ]
    },
    {
      "cell_type": "code",
      "source": [
        "from sklearn.metrics import confusion_matrix\n",
        "from sklearn.metrics import ConfusionMatrixDisplay\n",
        "\n",
        "\n",
        "cm = confusion_matrix(image_text_pred, label_test)\n",
        "\n",
        "cm_display = ConfusionMatrixDisplay(cm).plot()"
      ],
      "metadata": {
        "id": "WaZfmZ8hHWxZ",
        "outputId": "4f887a99-d0af-40fa-d592-e85e5df841a1",
        "colab": {
          "base_uri": "https://localhost:8080/",
          "height": 278
        }
      },
      "execution_count": 41,
      "outputs": [
        {
          "output_type": "display_data",
          "data": {
            "image/png": "[encoded data removed]",
            "text/plain": [
              "<Figure size 432x288 with 2 Axes>"
            ]
          },
          "metadata": {
            "needs_background": "light"
          }
        }
      ]
    },
    {
      "cell_type": "code",
      "source": [
        "from sklearn.linear_model import RidgeClassifier\n",
        "reg = RidgeClassifier()\n",
        "image_reg=reg.fit(image_pca,label_train)"
      ],
      "metadata": {
        "id": "ntvixV4YbiBH"
      },
      "execution_count": 50,
      "outputs": []
    },
    {
      "cell_type": "code",
      "source": [
        "image_pred=image_reg.predict(image_pca)"
      ],
      "metadata": {
        "id": "KmXzErBccGHy"
      },
      "execution_count": 51,
      "outputs": []
    },
    {
      "cell_type": "code",
      "source": [
        "sum(abs(image_pred-label_train))"
      ],
      "metadata": {
        "id": "50UNPZvhcPMW",
        "outputId": "b3d87627-a4c8-4078-90ae-938b5d13e1c8",
        "colab": {
          "base_uri": "https://localhost:8080/"
        }
      },
      "execution_count": 52,
      "outputs": [
        {
          "output_type": "execute_result",
          "data": {
            "text/plain": [
              "1860"
            ]
          },
          "metadata": {},
          "execution_count": 52
        }
      ]
    },
    {
      "cell_type": "code",
      "source": [
        "image_text_pred=image_reg.predict(image_test_pca)"
      ],
      "metadata": {
        "id": "u1uRL8DDcTOL"
      },
      "execution_count": 53,
      "outputs": []
    },
    {
      "cell_type": "code",
      "source": [
        "cm = confusion_matrix(image_text_pred, label_test)\n",
        "\n",
        "cm_display = ConfusionMatrixDisplay(cm).plot()"
      ],
      "metadata": {
        "id": "BYnQm6udcZI-",
        "outputId": "64f61fad-7aed-4079-d4d7-7835802904a4",
        "colab": {
          "base_uri": "https://localhost:8080/",
          "height": 278
        }
      },
      "execution_count": 54,
      "outputs": [
        {
          "output_type": "display_data",
          "data": {
            "image/png": "[encoded data removed]",
            "text/plain": [
              "<Figure size 432x288 with 2 Axes>"
            ]
          },
          "metadata": {
            "needs_background": "light"
          }
        }
      ]
    },
    {
      "cell_type": "code",
      "source": [
        "from sklearn import svm"
      ],
      "metadata": {
        "id": "ZX9tlWHPpLAS"
      },
      "execution_count": 55,
      "outputs": []
    },
    {
      "cell_type": "code",
      "source": [
        "clf = svm.SVC()"
      ],
      "metadata": {
        "id": "ufeMGSdwpML7"
      },
      "execution_count": 56,
      "outputs": []
    },
    {
      "cell_type": "code",
      "source": [
        "clf.fit(image_pca,label_train)"
      ],
      "metadata": {
        "id": "xufqd8rvpRCw",
        "outputId": "1c339477-755f-4678-b985-e2ace9ebda3c",
        "colab": {
          "base_uri": "https://localhost:8080/"
        }
      },
      "execution_count": 57,
      "outputs": [
        {
          "output_type": "execute_result",
          "data": {
            "text/plain": [
              "SVC()"
            ]
          },
          "metadata": {},
          "execution_count": 57
        }
      ]
    },
    {
      "cell_type": "code",
      "source": [
        "image_pred=clf.predict(image_pca)"
      ],
      "metadata": {
        "id": "VbTj5nUcpfs_"
      },
      "execution_count": 58,
      "outputs": []
    },
    {
      "cell_type": "code",
      "source": [
        "sum(abs(image_pred-label_train))"
      ],
      "metadata": {
        "id": "J2ZmAwl2pmXB",
        "outputId": "3906f6e9-0743-48d0-d2b2-aa78c989f716",
        "colab": {
          "base_uri": "https://localhost:8080/"
        }
      },
      "execution_count": 59,
      "outputs": [
        {
          "output_type": "execute_result",
          "data": {
            "text/plain": [
              "1313"
            ]
          },
          "metadata": {},
          "execution_count": 59
        }
      ]
    },
    {
      "cell_type": "code",
      "source": [
        "image_text_pred=image_reg.predict(image_test_pca)"
      ],
      "metadata": {
        "id": "3iLU3whKpnhD"
      },
      "execution_count": 60,
      "outputs": []
    },
    {
      "cell_type": "code",
      "source": [
        "cm = confusion_matrix(image_text_pred, label_test)\n",
        "\n",
        "cm_display = ConfusionMatrixDisplay(cm).plot()"
      ],
      "metadata": {
        "id": "7tofTGhcpnwj",
        "outputId": "82bd3368-da17-4d08-dc86-6e4c394d1653",
        "colab": {
          "base_uri": "https://localhost:8080/",
          "height": 278
        }
      },
      "execution_count": 61,
      "outputs": [
        {
          "output_type": "display_data",
          "data": {
            "image/png": "[encoded data removed]",
            "text/plain": [
              "<Figure size 432x288 with 2 Axes>"
            ]
          },
          "metadata": {
            "needs_background": "light"
          }
        }
      ]
    },
    {
      "cell_type": "code",
      "source": [
        ""
      ],
      "metadata": {
        "id": "NFQWLbSJpn94"
      },
      "execution_count": null,
      "outputs": []
    }
  ],
  "metadata": {
    "colab": {
      "collapsed_sections": [],
      "name": "Breastcancer_final.ipynb",
      "provenance": []
    },
    "kernelspec": {
      "display_name": "Python 3",
      "name": "python3"
    },
    "language_info": {
      "name": "python"
    }
  },
  "nbformat": 4,
  "nbformat_minor": 0
}